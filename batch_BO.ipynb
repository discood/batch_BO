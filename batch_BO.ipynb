{
 "cells": [
  {
   "cell_type": "code",
   "execution_count": null,
   "metadata": {},
   "outputs": [],
   "source": [
    "from bayesian import *\n",
    "from graph import *"
   ]
  },
  {
   "cell_type": "code",
   "execution_count": null,
   "metadata": {},
   "outputs": [],
   "source": [
    "data_num = 4"
   ]
  },
  {
   "cell_type": "code",
   "execution_count": null,
   "metadata": {},
   "outputs": [],
   "source": [
    "# loopなし。関数予測が確認できる。\n",
    "X, Y = initialize_XY(data_num)\n",
    "mean, std = gpr_prediction(X,Y)\n",
    "plot_prediction(mean,std,X,Y)\n",
    "X_next, Y_next = ucb_proposal(mean,std)\n",
    "X, Y = addition(X, Y, X_next, Y_next)"
   ]
  },
  {
   "cell_type": "code",
   "execution_count": null,
   "metadata": {},
   "outputs": [],
   "source": [
    "#loopあり。最大値付近を探索する様子が確認できる。\n",
    "X, Y = initialize_XY(data_num)\n",
    "loop = 10\n",
    "for i in range(loop):\n",
    "    mean, std = gpr_prediction(X,Y)\n",
    "    X_next, Y_next = ucb_proposal(mean,std)\n",
    "    if i != loop:\n",
    "        X, Y = addition(X, Y, X_next, Y_next)\n",
    "plot_prediction(mean,std,X,Y)"
   ]
  }
 ],
 "metadata": {
  "language_info": {
   "name": "python"
  },
  "orig_nbformat": 4
 },
 "nbformat": 4,
 "nbformat_minor": 2
}
